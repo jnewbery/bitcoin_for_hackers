{
 "cells": [
  {
   "cell_type": "markdown",
   "metadata": {},
   "source": [
    "# Proof-of-Work\n",
    "\n",
    "Find a valid 'block' for the message \"devplusplus\" with 4 bits of difficulty.\n",
    "\n",
    "Use the `double_sha256()` function from helper.py"
   ]
  },
  {
   "cell_type": "code",
   "execution_count": null,
   "metadata": {},
   "outputs": [],
   "source": [
    "import helper\n",
    "from binascii import hexlify\n",
    "\n",
    "def validate_block(message, nonce, difficulty):\n",
    "    block_hash = int.from_bytes(helper.double_sha256((message + nonce).encode()), 'big')\n",
    "    if block_hash < 2 ** (256 - difficulty):\n",
    "        print(\"Valid block:    {0:#0{1}x}.\\nNonce = {2}\".format(block_hash, 66, nonce))\n",
    "        return True\n",
    "    else:\n",
    "        print(\"Invalid block:  {0:#0{1}x}.\\nNonce = {2}\".format(block_hash, 66, nonce))\n",
    "        return False\n",
    "\n",
    "validate_block(\"devplusplus\", \"nonce1\", 4)"
   ]
  },
  {
   "cell_type": "markdown",
   "metadata": {},
   "source": [
    "# Difficulty\n",
    "\n",
    "Find the target for the current Bitcoin mainnet block. Go to [smartbit.com.au](https://www.smartbit.com.au/blocks) and use the `Bits` field from the most recent block.\n",
    "\n",
    "Note that the `Bits` field is displayed in Big-endian"
   ]
  },
  {
   "cell_type": "code",
   "execution_count": null,
   "metadata": {},
   "outputs": [],
   "source": [
    "from binascii import unhexlify\n",
    "\n",
    "bits = unhexlify('18013ce9')\n",
    "exponent = bits[0]\n",
    "coefficient = int.from_bytes(bits[1:], 'big')\n",
    "target = coefficient*2**(8*(exponent-3))\n",
    "print(\"{0:#0{1}x}\".format(target, 66))"
   ]
  },
  {
   "cell_type": "markdown",
   "metadata": {},
   "source": [
    "Find the target difficulty for the current Bitcoin mainnet block using `difficulty` from [smartbit.com.au](https://smartbit.com.au/blocks)."
   ]
  },
  {
   "cell_type": "code",
   "execution_count": null,
   "metadata": {},
   "outputs": [],
   "source": [
    "base_difficulty = 0x00000000ffff0000000000000000000000000000000000000000000000000000\n",
    "difficulty = 2\n",
    "target = int(base_difficulty/difficulty)\n",
    "print(\"{0:#0{1}x}\".format(target, 66))"
   ]
  }
 ],
 "metadata": {
  "kernelspec": {
   "display_name": "Python 3",
   "language": "python",
   "name": "python3"
  },
  "language_info": {
   "codemirror_mode": {
    "name": "ipython",
    "version": 3
   },
   "file_extension": ".py",
   "mimetype": "text/x-python",
   "name": "python",
   "nbconvert_exporter": "python",
   "pygments_lexer": "ipython3",
   "version": "3.5.2"
  }
 },
 "nbformat": 4,
 "nbformat_minor": 2
}
