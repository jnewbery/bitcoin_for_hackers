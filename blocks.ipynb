{
 "cells": [
  {
   "cell_type": "markdown",
   "metadata": {},
   "source": [
    "# Bitcoin For Hackers"
   ]
  },
  {
   "cell_type": "markdown",
   "metadata": {},
   "source": [
    "### Introduction\n",
    "\n",
    "This is a Jupyter notebook. We're going to use it to interact with a running Bitcoin node.\n",
    "\n",
    "To run the code in a cell, press shift-enter."
   ]
  },
  {
   "cell_type": "code",
   "execution_count": null,
   "metadata": {},
   "outputs": [],
   "source": [
    "# Run some code\n",
    "print(\"2 + 3 = {}\".format(2 + 3))"
   ]
  },
  {
   "cell_type": "code",
   "execution_count": null,
   "metadata": {},
   "outputs": [],
   "source": [
    "# Import our dependencies\n",
    "from ecc import PrivateKey, get_key_pair"
   ]
  },
  {
   "cell_type": "markdown",
   "metadata": {},
   "source": [
    "### Signing a message\n",
    "\n",
    "Digital signing uses a *private* key and a *public* key:\n",
    "- the *private* key is kept secret, and is used to *sign* a message."
   ]
  },
  {
   "cell_type": "code",
   "execution_count": null,
   "metadata": {
    "scrolled": true
   },
   "outputs": [],
   "source": [
    "# get a keypair\n",
    "privkey, pubkey = get_key_pair()\n",
    "\n",
    "print(\"Private key is {}\".format(privkey))\n",
    "print(\"Public key is {}\".format(pubkey))\n",
    "\n",
    "# Only someone with the private key can sign a message:\n",
    "print(\"Signing message 'Bitcoin for Hackers'\")\n",
    "\n",
    "message = 'Bitcoin for Hackers'\n",
    "# convert message to an integer\n",
    "\n",
    "sig = privkey.sign(message)\n",
    "print(\"Signature is {}\".format(sig))"
   ]
  },
  {
   "cell_type": "markdown",
   "metadata": {},
   "source": [
    "### Verifying a message\n",
    "\n",
    "- the *public* key is shared publicly, and is used to *validate* a signed message."
   ]
  },
  {
   "cell_type": "code",
   "execution_count": null,
   "metadata": {
    "scrolled": true
   },
   "outputs": [],
   "source": [
    "# use the public key to verify the signature\n",
    "pubkey.verify(message, sig)"
   ]
  },
  {
   "cell_type": "code",
   "execution_count": null,
   "metadata": {
    "scrolled": true
   },
   "outputs": [],
   "source": [
    "# is the signature still valid if we change the message?\n",
    "pubkey.verify('Bitcoin for Hackerz', sig)"
   ]
  },
  {
   "cell_type": "code",
   "execution_count": null,
   "metadata": {
    "scrolled": true
   },
   "outputs": [],
   "source": [
    "# is a different signature valid for the message?\n",
    "sig.r += 1\n",
    "pubkey.verify(message, sig)"
   ]
  },
  {
   "cell_type": "markdown",
   "metadata": {},
   "source": [
    "### Proof-of-Work\n",
    "\n",
    "Find a valid 'block' for the message \"Bitcoin for Hackers\" with 4 bits of difficulty.\n",
    "\n",
    "Use the `double_sha256()` function from helper.py"
   ]
  },
  {
   "cell_type": "code",
   "execution_count": null,
   "metadata": {},
   "outputs": [],
   "source": [
    "import helper\n",
    "from binascii import hexlify\n",
    "\n",
    "def validate_block(message, nonce, difficulty):\n",
    "    block_hash = int.from_bytes(helper.double_sha256((message + nonce).encode()), 'big')\n",
    "    if block_hash < 2 ** (256 - difficulty):\n",
    "        print(\"Valid block:    {0:#0{1}x}.\\nNonce = {2}\".format(block_hash, 66, nonce))\n",
    "        return True\n",
    "    else:\n",
    "        print(\"Invalid block:  {0:#0{1}x}.\\nNonce = {2}\".format(block_hash, 66, nonce))\n",
    "        return False\n",
    "\n",
    "validate_block(\"Bitcoin for Hackers\", \"nonce1\".format(i), 4)"
   ]
  }
 ],
 "metadata": {
  "kernelspec": {
   "display_name": "Python 3",
   "language": "python",
   "name": "python3"
  },
  "language_info": {
   "codemirror_mode": {
    "name": "ipython",
    "version": 3
   },
   "file_extension": ".py",
   "mimetype": "text/x-python",
   "name": "python",
   "nbconvert_exporter": "python",
   "pygments_lexer": "ipython3",
   "version": "3.5.2"
  }
 },
 "nbformat": 4,
 "nbformat_minor": 2
}
