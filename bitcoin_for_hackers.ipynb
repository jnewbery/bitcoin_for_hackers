{
 "cells": [
  {
   "cell_type": "markdown",
   "metadata": {},
   "source": [
    "![](img/bitcoin_for_hackers.png)"
   ]
  },
  {
   "cell_type": "markdown",
   "metadata": {},
   "source": [
    "This is a Jupyter notebook. We're going to use it to interact with a running Bitcoin node.\n",
    "\n",
    "To run the code in a cell, press shift-enter."
   ]
  },
  {
   "cell_type": "code",
   "execution_count": null,
   "metadata": {},
   "outputs": [],
   "source": [
    "# Run some code\n",
    "print(\"2 + 3 = {}\".format(2 + 3))"
   ]
  },
  {
   "cell_type": "code",
   "execution_count": null,
   "metadata": {},
   "outputs": [],
   "source": [
    "# Import our dependencies\n",
    "from ecc import PrivateKey, get_key_pair\n",
    "import helper"
   ]
  },
  {
   "cell_type": "markdown",
   "metadata": {},
   "source": [
    "# Digital Signatures\n",
    "\n",
    "### Signing a message\n",
    "\n",
    "Digital signing uses a *private* key and a *public* key:\n",
    "- the *private* key is kept secret, and is used to *sign* a message."
   ]
  },
  {
   "cell_type": "code",
   "execution_count": null,
   "metadata": {
    "scrolled": true
   },
   "outputs": [],
   "source": [
    "# get a keypair\n",
    "privkey, pubkey = get_key_pair()\n",
    "\n",
    "print(\"Private key: {}\\n\".format(privkey))\n",
    "print(\"Public key: {}\\n\".format(pubkey))\n",
    "\n",
    "# Only someone with the private key can sign a message:\n",
    "print(\"Message: 'Bitcoin for Hackers'\\n\")\n",
    "\n",
    "message = 'Bitcoin for Hackers'\n",
    "# convert message to an integer\n",
    "\n",
    "sig = privkey.sign(message)\n",
    "print(\"Signature: {}\\n\".format(sig))"
   ]
  },
  {
   "cell_type": "markdown",
   "metadata": {},
   "source": [
    "### Verifying a message\n",
    "\n",
    "- the *public* key is shared publicly, and is used to *validate* a signed message."
   ]
  },
  {
   "cell_type": "code",
   "execution_count": null,
   "metadata": {
    "scrolled": true
   },
   "outputs": [],
   "source": [
    "# use the public key to verify the signature\n",
    "is_valid = pubkey.verify(message, sig)\n",
    "print(\"Signature {}\".format(\"valid\" if is_valid else \"invalid\"))"
   ]
  },
  {
   "cell_type": "code",
   "execution_count": null,
   "metadata": {
    "scrolled": true
   },
   "outputs": [],
   "source": [
    "# is the signature still valid if we change the message?\n",
    "is_valid = pubkey.verify('Bitcoin for Hackerz', sig)\n",
    "print(\"Signature {}\".format(\"valid\" if is_valid else \"invalid\"))"
   ]
  },
  {
   "cell_type": "code",
   "execution_count": null,
   "metadata": {
    "scrolled": true
   },
   "outputs": [],
   "source": [
    "# is a different signature valid for the message?\n",
    "sig.r += 1\n",
    "is_valid = pubkey.verify(message, sig)\n",
    "print(\"Signature {}\".format(\"valid\" if is_valid else \"invalid\"))"
   ]
  },
  {
   "cell_type": "markdown",
   "metadata": {},
   "source": [
    "# Coins and Transactions\n",
    "\n",
    "Introducing Alice, Bob and Charlie. Alice starts with one coin. We're going to pass that coin around by signing and validating transactions.\n",
    "\n",
    "First let's set everything up, and check the balances and transaction history."
   ]
  },
  {
   "cell_type": "code",
   "execution_count": null,
   "metadata": {},
   "outputs": [],
   "source": [
    "# set up test. Generate keypairs for Alice, Bob and Charlie and print them out."
   ]
  },
  {
   "cell_type": "code",
   "execution_count": null,
   "metadata": {},
   "outputs": [],
   "source": [
    "# draw balances - this should show a balance of one for Alice and zero for Bob and Charlie"
   ]
  },
  {
   "cell_type": "code",
   "execution_count": null,
   "metadata": {},
   "outputs": [],
   "source": [
    "# print out transaction history - this should show a single transaction"
   ]
  },
  {
   "cell_type": "markdown",
   "metadata": {},
   "source": [
    "### Sending a transaction\n",
    "\n",
    "Only Alice knows her private key, so only she can sign a transaction that sends her coin.\n",
    "\n",
    "Alice can send her coin to Bob."
   ]
  },
  {
   "cell_type": "code",
   "execution_count": null,
   "metadata": {},
   "outputs": [],
   "source": [
    "tx1 = txs[-1]\n",
    "tx2 = create_transaction(tx1, Bob.pubkey)\n",
    "signed_tx2 = Alice.sign(tx2)\n",
    "submit_transaction(signed_tx2)"
   ]
  },
  {
   "cell_type": "code",
   "execution_count": null,
   "metadata": {},
   "outputs": [],
   "source": [
    "# draw balances - this should show a balance of one for Bob and zero for Alice and Charlie"
   ]
  },
  {
   "cell_type": "code",
   "execution_count": null,
   "metadata": {},
   "outputs": [],
   "source": [
    "# print out transaction history - this should show two transactions"
   ]
  },
  {
   "cell_type": "markdown",
   "metadata": {},
   "source": [
    "Anyone can verify the transaction with Alice's *public* key"
   ]
  },
  {
   "cell_type": "code",
   "execution_count": null,
   "metadata": {},
   "outputs": [],
   "source": [
    "is_valid = verify_transaction(signed_tx, Alice.pubkey)\n",
    "print(\"Transaction {}\".format(\"valid\" if is_valid else \"invalid\"))"
   ]
  },
  {
   "cell_type": "markdown",
   "metadata": {},
   "source": [
    "Bob can now sign a new transaction, sending his coin to Charlie."
   ]
  },
  {
   "cell_type": "code",
   "execution_count": null,
   "metadata": {},
   "outputs": [],
   "source": [
    "tx2 = txs[-1]\n",
    "tx3 = create_transaction(tx1, Charlie.pubkey)\n",
    "signed_tx3 = Bob.sign(tx3)\n",
    "submit_transaction(signed_tx3)"
   ]
  },
  {
   "cell_type": "code",
   "execution_count": null,
   "metadata": {},
   "outputs": [],
   "source": [
    "# draw balances - this should show a balance of one for Charlie and zero for Alice and Bob"
   ]
  },
  {
   "cell_type": "code",
   "execution_count": null,
   "metadata": {},
   "outputs": [],
   "source": [
    "# print out transaction history - this should show three transactions"
   ]
  },
  {
   "cell_type": "markdown",
   "metadata": {},
   "source": [
    "# The Double spend problem\n",
    "\n",
    "Bob can sign a new transaction, spending the same coins!"
   ]
  },
  {
   "cell_type": "code",
   "execution_count": null,
   "metadata": {},
   "outputs": [],
   "source": [
    "tx2b = txs[-1]\n",
    "tx3b = create_transaction(tx1, Alice.pubkey)\n",
    "signed_tx3b = Bob.sign(tx3b)\n",
    "submit_transaction(signed_tx3b)"
   ]
  },
  {
   "cell_type": "code",
   "execution_count": null,
   "metadata": {},
   "outputs": [],
   "source": [
    "# draw balances - this should show a balance of one for Alice and Charlie and zero for Bob. Ruh roh!"
   ]
  },
  {
   "cell_type": "code",
   "execution_count": null,
   "metadata": {},
   "outputs": [],
   "source": [
    "# print out transaction history - this should show four transactions"
   ]
  },
  {
   "cell_type": "markdown",
   "metadata": {},
   "source": [
    "### Ordering\n",
    "\n",
    "Let's change our ledger logic so only the first spend of a coin is valid."
   ]
  },
  {
   "cell_type": "code",
   "execution_count": null,
   "metadata": {},
   "outputs": [],
   "source": [
    "# draw balances - this should show a balance of one for Charlie and zero for Alice and Bob."
   ]
  },
  {
   "cell_type": "code",
   "execution_count": null,
   "metadata": {},
   "outputs": [],
   "source": [
    "# print out transaction history - this should show three valid transactions and one invalid transaction"
   ]
  },
  {
   "cell_type": "markdown",
   "metadata": {},
   "source": [
    "Seems to have fixed things, right?\n",
    "\n",
    "Not so fast!\n",
    "\n",
    "On a distributed network, there isn't a *canonical* ordering. What if Bob sends the Alice transaction to Alice, and the Charlie transaction to Charlie. Alice sees her transaction first, so her view of the ledger is as above. Charlie sees his transaction first, so he sees:"
   ]
  },
  {
   "cell_type": "code",
   "execution_count": null,
   "metadata": {},
   "outputs": [],
   "source": [
    "txs[-2], txs[-1] = txs[-1], txs[-2]  # Charlie sees the last two transactions in a different order!\n",
    "# draw balances - this should show a balance of one for Charlie and zero for Alice and Bob."
   ]
  },
  {
   "cell_type": "code",
   "execution_count": null,
   "metadata": {},
   "outputs": [],
   "source": [
    "# print out transaction history - this should show three valid transactions and one invalid transaction"
   ]
  },
  {
   "cell_type": "markdown",
   "metadata": {},
   "source": [
    "# Cryptographic hashes\n",
    "\n",
    "Cryptographic hashes have the following properties:\n",
    "\n",
    "1. it is *infeasible* to generate a message from its hash value (preimage resistance)\n",
    "2. a small change to a message results in a completely different digest (avalanche effect)\n",
    "3. it is *infeasible* to find two different messages with the same hash value (collision resistance)\n",
    "\n",
    "Let's test (1) and (2):\n",
    "\n",
    "- What's the double sha256 digest of \"Bitcoin for Hackers\"?\n",
    "- What's the double sha256 digest of \"Bitcoin for Hackerz\"?\n",
    "- What's the preimage for the digest \"0x707e397fc6c0327b6d9c3a2be68d4fd2456609caa53f8a4fdc7131d3944b516c\"?"
   ]
  },
  {
   "cell_type": "code",
   "execution_count": null,
   "metadata": {},
   "outputs": [],
   "source": [
    "def hash(message):\n",
    "    # hash the block with the nonce\n",
    "    print(\"{0:#0{1}x}\".format(int.from_bytes(helper.double_sha256((message).encode()), 'big'), 66))\n",
    "\n",
    "hash(message=\"Bitcoin for Hackers\")"
   ]
  },
  {
   "cell_type": "markdown",
   "metadata": {},
   "source": [
    "# Proof-of-Work\n",
    "\n",
    "Proof-of-work determines who gets to build the next block in the Bitcoin blockchain. It relies on the fact that a cryptographic hash function is one-way, and the output is essentially randomly distributed.\n",
    "\n",
    "We're going to do some manual proof-of-work over a short message.\n",
    "\n",
    "Find a valid 'block' for the message \"Bitcoin for Hackers\" with 4 bits of difficulty.\n",
    "\n",
    "Try running the `validate_block()` function with the same message but different nonces."
   ]
  },
  {
   "cell_type": "code",
   "execution_count": null,
   "metadata": {},
   "outputs": [],
   "source": [
    "def validate_block(message, nonce, difficulty):\n",
    "    # hash the block with the nonce\n",
    "    block_hash = int.from_bytes(helper.double_sha256((message + nonce).encode()), 'big')\n",
    "    if block_hash < 2 ** (256 - difficulty):\n",
    "        # winner! Our digest was below the target difficulty\n",
    "        print(\"Valid block:    {0:#0{1}x}.\\nNonce = {2}\".format(block_hash, 66, nonce))\n",
    "        return True\n",
    "    else:\n",
    "        # Sorry, your digest was too large!\n",
    "        print(\"Invalid block:  {0:#0{1}x}.\\nNonce = {2}\".format(block_hash, 66, nonce))\n",
    "        return False\n",
    "\n",
    "validate_block(message=\"Bitcoin for Hackers\", nonce=\"nonce1\", difficulty=4)"
   ]
  },
  {
   "cell_type": "markdown",
   "metadata": {},
   "source": [
    "# Validating work\n",
    "\n",
    "Proof-of-work is *hard* to do, but *easy* to validate. Once you and your neighbor have a valid block, verify that their block is valid by running `validate_block()` with their nonce."
   ]
  },
  {
   "cell_type": "code",
   "execution_count": null,
   "metadata": {},
   "outputs": [],
   "source": [
    "validate_block(message=\"Bitcoin for Hackers\", nonce=<put a valid nonce here>, difficulty=4)"
   ]
  }
 ],
 "metadata": {
  "kernelspec": {
   "display_name": "Python 3",
   "language": "python",
   "name": "python3"
  },
  "language_info": {
   "codemirror_mode": {
    "name": "ipython",
    "version": 3
   },
   "file_extension": ".py",
   "mimetype": "text/x-python",
   "name": "python",
   "nbconvert_exporter": "python",
   "pygments_lexer": "ipython3",
   "version": "3.5.2"
  }
 },
 "nbformat": 4,
 "nbformat_minor": 2
}
