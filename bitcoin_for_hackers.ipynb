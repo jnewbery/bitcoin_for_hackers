{
 "cells": [
  {
   "cell_type": "markdown",
   "metadata": {},
   "source": [
    "![](img/bitcoin_for_hackers.png)"
   ]
  },
  {
   "cell_type": "markdown",
   "metadata": {},
   "source": [
    "This is a Jupyter notebook. We're going to use it to interact with a running Bitcoin node.\n",
    "\n",
    "To run the code in a cell, press shift-enter."
   ]
  },
  {
   "cell_type": "code",
   "execution_count": null,
   "metadata": {},
   "outputs": [],
   "source": [
    "# Run some code\n",
    "print(\"2 + 3 = {}\".format(2 + 3))"
   ]
  },
  {
   "cell_type": "code",
   "execution_count": null,
   "metadata": {},
   "outputs": [],
   "source": [
    "# Import our dependencies\n",
    "%matplotlib inline\n",
    "\n",
    "import hashlib\n",
    "from pprint import pprint, pformat\n",
    "from IPython import display\n",
    "\n",
    "from ecc import PrivateKey, Keypair\n",
    "from ledger import Ledger"
   ]
  },
  {
   "cell_type": "markdown",
   "metadata": {},
   "source": [
    "# Digital Signatures\n",
    "\n",
    "### Signing a message\n",
    "\n",
    "Digital signing uses a *private* key and a *public* key:\n",
    "- the *private* key is kept secret, and is used to *sign* a message."
   ]
  },
  {
   "cell_type": "code",
   "execution_count": null,
   "metadata": {
    "scrolled": true
   },
   "outputs": [],
   "source": [
    "# Get a keypair\n",
    "kp = Keypair()\n",
    "\n",
    "print(\"Private key: {}\\n\".format(kp.privkey))\n",
    "print(\"Public key: {}\\n\".format(kp.pubkey))\n",
    "\n",
    "# Only someone with the private key can sign a message:\n",
    "print(\"Message: 'Bitcoin for Hackers'\\n\")\n",
    "\n",
    "message = 'Bitcoin for Hackers'\n",
    "# convert message to an integer\n",
    "\n",
    "sig = kp.privkey.sign(message)\n",
    "print(\"Signature: {}\\n\".format(sig))"
   ]
  },
  {
   "cell_type": "markdown",
   "metadata": {},
   "source": [
    "### Verifying a message\n",
    "\n",
    "- the *public* key is shared publicly, and is used to *validate* a signed message."
   ]
  },
  {
   "cell_type": "code",
   "execution_count": null,
   "metadata": {
    "scrolled": true
   },
   "outputs": [],
   "source": [
    "# use the public key to verify the signature\n",
    "is_valid = kp.pubkey.verify(message, sig)\n",
    "print(\"Signature {}\".format(\"valid\" if is_valid else \"invalid\"))"
   ]
  },
  {
   "cell_type": "code",
   "execution_count": null,
   "metadata": {
    "scrolled": true
   },
   "outputs": [],
   "source": [
    "# is the signature still valid if we change the message?\n",
    "is_valid = kp.pubkey.verify('Bitcoin for Hackerz', sig)\n",
    "print(\"Signature {}\".format(\"valid\" if is_valid else \"invalid\"))"
   ]
  },
  {
   "cell_type": "code",
   "execution_count": null,
   "metadata": {
    "scrolled": true
   },
   "outputs": [],
   "source": [
    "# is a different signature valid for the message?\n",
    "sig.r += 1\n",
    "is_valid = kp.pubkey.verify(message, sig)\n",
    "print(\"Signature {}\".format(\"valid\" if is_valid else \"invalid\"))"
   ]
  },
  {
   "cell_type": "markdown",
   "metadata": {},
   "source": [
    "# Coins and Transactions\n",
    "\n",
    "Introducing Alice, Bob and Charlie. Alice starts with one coin. We're going to pass that coin around by signing and validating transactions.\n",
    "\n",
    "First let's set everything up, and check the balances and transaction history."
   ]
  },
  {
   "cell_type": "code",
   "execution_count": null,
   "metadata": {},
   "outputs": [],
   "source": [
    "# Generate keypairs for Alice, Bob and Charlie and print them out\n",
    "keypairs = {}\n",
    "for user in ['Alice', 'Bob', 'Charlie']:\n",
    "    keypairs[user] = Keypair()\n",
    "\n",
    "# print the keypairs\n",
    "pprint(keypairs)\n",
    "\n",
    "users = sorted(keypairs.keys())\n",
    "print(users)"
   ]
  },
  {
   "cell_type": "code",
   "execution_count": null,
   "metadata": {},
   "outputs": [],
   "source": [
    "# Define what a 'Transaction' is and start a global ledger of transactions\n",
    "class Transaction():\n",
    "    def __init__(self, parent, recipient):\n",
    "        self.parent = parent\n",
    "        self.recipient = recipient\n",
    "        if self.parent is None:\n",
    "            # Special case for a 'genesis tranasction'\n",
    "            p = b''\n",
    "        else:\n",
    "            p = self.parent\n",
    "        self.id = hashlib.sha256(p + self.recipient.sec()).digest()\n",
    "        self.signature = b''\n",
    "        \n",
    "    def __repr__(self):\n",
    "        if self.parent is None:\n",
    "            parent = 'None        '\n",
    "        else:\n",
    "            parent = '0x{:<7.7}...'.format(self.parent.hex())\n",
    "        if self.signature == b'':\n",
    "            sig = 'None            '\n",
    "        else:\n",
    "            sig = self.signature\n",
    "        return \"Txid: 0x{:<7.7}..., parent: {}, recipient: {:<8}, signature: {}\".format(self.id.hex(), parent, self.recipient_name, sig)\n",
    "    \n",
    "    @property\n",
    "    def recipient_name(self):\n",
    "        for user in keypairs:\n",
    "            if keypairs[user].pubkey == self.recipient:\n",
    "                return user\n",
    "    \n",
    "    def sign(self, priv_key):\n",
    "        \"Sign the transaction id using a private key\"\n",
    "        self.signature = priv_key.sign(int.from_bytes(self.id, 'little'))\n",
    "        \n",
    "    def send(self):\n",
    "        \"Add a signed transaction to the global ledger\"\n",
    "        if self.verify:\n",
    "            transactions.add_transaction(self)\n",
    "        \n",
    "    def verify(self):\n",
    "        \"Verify that the signature for the transaction is valid\"\n",
    "        if self.parent is None:\n",
    "            # Special case for a 'genesis transaction'\n",
    "            return True\n",
    "        parent_tx = None\n",
    "        for tx in transactions.get_transactions():\n",
    "            if tx.id == self.parent:\n",
    "                parent_tx = tx\n",
    "        if parent_tx is None:\n",
    "            return False  # parent transaction not found\n",
    "        return parent_tx.recipient.verify(int.from_bytes(self.id, 'little'), self.signature)\n",
    "\n",
    "transactions = Ledger(users)"
   ]
  },
  {
   "cell_type": "code",
   "execution_count": null,
   "metadata": {},
   "outputs": [],
   "source": [
    "# Start by adding a 'genesis' transaction for Alice\n",
    "\n",
    "tx = Transaction(None, keypairs['Alice'].pubkey)\n",
    "tx.send()\n",
    "\n",
    "# print out transaction history\n",
    "pprint(transactions)"
   ]
  },
  {
   "cell_type": "code",
   "execution_count": null,
   "metadata": {},
   "outputs": [],
   "source": [
    "# print and draw balances\n",
    "print(transactions.get_balances())\n",
    "transactions.draw_balances()"
   ]
  },
  {
   "cell_type": "markdown",
   "metadata": {},
   "source": [
    "### Sending a transaction\n",
    "\n",
    "Only Alice knows her private key, so only she can sign a transaction that sends her coin.\n",
    "\n",
    "Alice can send her coin to Bob."
   ]
  },
  {
   "cell_type": "code",
   "execution_count": null,
   "metadata": {},
   "outputs": [],
   "source": [
    "tx2 = Transaction(tx.id, keypairs['Bob'].pubkey)\n",
    "tx2.sign(keypairs['Alice'].privkey)\n",
    "tx2.send()"
   ]
  },
  {
   "cell_type": "markdown",
   "metadata": {},
   "source": [
    "Anyone can verify the transaction with Alice's *public* key"
   ]
  },
  {
   "cell_type": "code",
   "execution_count": null,
   "metadata": {},
   "outputs": [],
   "source": [
    "is_valid = tx2.verify()\n",
    "print(\"Transaction {:<7.7}... is {}\".format(tx.id.hex(), \"valid\" if is_valid else \"invalid\"))"
   ]
  },
  {
   "cell_type": "code",
   "execution_count": null,
   "metadata": {},
   "outputs": [],
   "source": [
    "# print out transaction history\n",
    "pprint(transactions)"
   ]
  },
  {
   "cell_type": "code",
   "execution_count": null,
   "metadata": {},
   "outputs": [],
   "source": [
    "# print and draw balances\n",
    "print(transactions.get_balances())\n",
    "transactions.draw_balances()"
   ]
  },
  {
   "cell_type": "markdown",
   "metadata": {},
   "source": [
    "Bob can now sign a new transaction, sending his coin to Charlie."
   ]
  },
  {
   "cell_type": "code",
   "execution_count": null,
   "metadata": {},
   "outputs": [],
   "source": [
    "tx3 = Transaction(tx2.id, keypairs['Charlie'].pubkey)\n",
    "tx3.sign(keypairs['Bob'].privkey)\n",
    "tx3.send()"
   ]
  },
  {
   "cell_type": "code",
   "execution_count": null,
   "metadata": {},
   "outputs": [],
   "source": [
    "# print out transaction history\n",
    "pprint(transactions)"
   ]
  },
  {
   "cell_type": "code",
   "execution_count": null,
   "metadata": {},
   "outputs": [],
   "source": [
    "# print and draw balances\n",
    "print(transactions.get_balances())\n",
    "transactions.draw_balances()"
   ]
  },
  {
   "cell_type": "markdown",
   "metadata": {},
   "source": [
    "# The Double spend problem\n",
    "\n",
    "Bob can sign a second transaction, spending the same coins!"
   ]
  },
  {
   "cell_type": "code",
   "execution_count": null,
   "metadata": {},
   "outputs": [],
   "source": [
    "tx3b = Transaction(tx2.id, keypairs['Alice'].pubkey)\n",
    "tx3b.sign(keypairs['Bob'].privkey)\n",
    "tx3b.send()"
   ]
  },
  {
   "cell_type": "code",
   "execution_count": null,
   "metadata": {},
   "outputs": [],
   "source": [
    "# print out transaction history\n",
    "pprint(transactions)"
   ]
  },
  {
   "cell_type": "code",
   "execution_count": null,
   "metadata": {},
   "outputs": [],
   "source": [
    "# print and draw balances\n",
    "print(transactions.get_balances())\n",
    "transactions.draw_balances()"
   ]
  },
  {
   "cell_type": "markdown",
   "metadata": {},
   "source": [
    "### Ordering\n",
    "\n",
    "Let's change our ledger logic so only the first spend of a coin is valid."
   ]
  },
  {
   "cell_type": "code",
   "execution_count": null,
   "metadata": {},
   "outputs": [],
   "source": [
    "# print out transaction history, showing spentness validity\n",
    "print(transactions.list_with_spentness())"
   ]
  },
  {
   "cell_type": "code",
   "execution_count": null,
   "metadata": {},
   "outputs": [],
   "source": [
    "# print and draw balances, disallowing doublespends\n",
    "print(transactions.get_balances(allow_doublespends=False))\n",
    "transactions.draw_balances(allow_doublespends=False)"
   ]
  },
  {
   "cell_type": "markdown",
   "metadata": {},
   "source": [
    "Seems to have fixed things, right?\n",
    "\n",
    "Not so fast!\n",
    "\n",
    "On a distributed network, there isn't a *canonical* ordering. What if Bob sends the Alice transaction to Alice, and the Charlie transaction to Charlie. Alice sees her transaction first, so her view of the ledger is as above. Charlie sees his transaction first, so he sees:"
   ]
  },
  {
   "cell_type": "code",
   "execution_count": null,
   "metadata": {},
   "outputs": [],
   "source": [
    "transactions.swap_order(-1, -2)\n",
    "print(transactions.list_with_spentness())"
   ]
  },
  {
   "cell_type": "code",
   "execution_count": null,
   "metadata": {},
   "outputs": [],
   "source": [
    "# print and draw balances, disallowing doublespends\n",
    "print(transactions.get_balances(allow_doublespends=False))\n",
    "transactions.draw_balances(allow_doublespends=False)"
   ]
  },
  {
   "cell_type": "markdown",
   "metadata": {},
   "source": [
    "![](img/ruh_roh.jpg)"
   ]
  },
  {
   "cell_type": "markdown",
   "metadata": {},
   "source": [
    "# Cryptographic hashes\n",
    "\n",
    "Cryptographic hashes have the following properties:\n",
    "\n",
    "1. it is *infeasible* to generate a message from its hash value (preimage resistance)\n",
    "2. a small change to a message results in a completely different digest (avalanche effect)\n",
    "3. it is *infeasible* to find two different messages with the same hash value (collision resistance)\n",
    "\n",
    "Let's test (1) and (2):\n",
    "\n",
    "- What's the double sha256 digest of \"Bitcoin for Hackers\"?\n",
    "- What's the double sha256 digest of \"Bitcoin for Hackerz\"?\n",
    "- What's the preimage for the digest \"0x707e397fc6c0327b6d9c3a2be68d4fd2456609caa53f8a4fdc7131d3944b516c\"?"
   ]
  },
  {
   "cell_type": "code",
   "execution_count": null,
   "metadata": {},
   "outputs": [],
   "source": [
    "def hash(message):\n",
    "    # hash the block with the nonce\n",
    "    print(\"{0:#0{1}x}\".format(int.from_bytes(helper.double_sha256((message).encode()), 'big'), 66))\n",
    "\n",
    "hash(message=\"Bitcoin for Hackers\")"
   ]
  },
  {
   "cell_type": "markdown",
   "metadata": {},
   "source": [
    "# Proof-of-Work\n",
    "\n",
    "Proof-of-work determines who gets to build the next block in the Bitcoin blockchain. It relies on the fact that a cryptographic hash function is one-way, and the output is essentially randomly distributed.\n",
    "\n",
    "We're going to do some manual proof-of-work over a short message.\n",
    "\n",
    "Find a valid 'block' for the message \"Bitcoin for Hackers\" with 4 bits of difficulty.\n",
    "\n",
    "Try running the `validate_block()` function with the same message but different nonces."
   ]
  },
  {
   "cell_type": "code",
   "execution_count": null,
   "metadata": {},
   "outputs": [],
   "source": [
    "def validate_block(message, nonce, difficulty):\n",
    "    # hash the block with the nonce\n",
    "    block_hash = int.from_bytes(helper.double_sha256((message + nonce).encode()), 'big')\n",
    "    if block_hash < 2 ** (256 - difficulty):\n",
    "        # winner! Our digest was below the target difficulty\n",
    "        print(\"Valid block:    {0:#0{1}x}.\\nNonce = {2}\".format(block_hash, 66, nonce))\n",
    "        return True\n",
    "    else:\n",
    "        # Sorry, your digest was too large!\n",
    "        print(\"Invalid block:  {0:#0{1}x}.\\nNonce = {2}\".format(block_hash, 66, nonce))\n",
    "        return False\n",
    "\n",
    "validate_block(message=\"Bitcoin for Hackers\", nonce=\"nonce1\", difficulty=4)"
   ]
  },
  {
   "cell_type": "markdown",
   "metadata": {},
   "source": [
    "# Validating work\n",
    "\n",
    "Proof-of-work is *hard* to do, but *easy* to validate. Once you and your neighbor have a valid block, verify that their block is valid by running `validate_block()` with their nonce."
   ]
  },
  {
   "cell_type": "code",
   "execution_count": null,
   "metadata": {},
   "outputs": [],
   "source": [
    "validate_block(message=\"Bitcoin for Hackers\", nonce=<put a valid nonce here>, difficulty=4)"
   ]
  }
 ],
 "metadata": {
  "kernelspec": {
   "display_name": "Python 3",
   "language": "python",
   "name": "python3"
  },
  "language_info": {
   "codemirror_mode": {
    "name": "ipython",
    "version": 3
   },
   "file_extension": ".py",
   "mimetype": "text/x-python",
   "name": "python",
   "nbconvert_exporter": "python",
   "pygments_lexer": "ipython3",
   "version": "3.5.2"
  }
 },
 "nbformat": 4,
 "nbformat_minor": 2
}
